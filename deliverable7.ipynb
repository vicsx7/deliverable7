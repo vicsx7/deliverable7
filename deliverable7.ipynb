{
  "nbformat": 4,
  "nbformat_minor": 0,
  "metadata": {
    "colab": {
      "provenance": []
    },
    "kernelspec": {
      "name": "python3",
      "display_name": "Python 3"
    },
    "language_info": {
      "name": "python"
    }
  },
  "cells": [
    {
      "cell_type": "code",
      "execution_count": 42,
      "metadata": {
        "id": "_dzLVeN1XhnS"
      },
      "outputs": [],
      "source": [
        "import pandas as pd"
      ]
    },
    {
      "cell_type": "code",
      "source": [
        "n = int(input(\"Enter a non-negative integer number: \"))\n",
        "if n < 0: print(\"ERROR: Please enter a valid integer.\")"
      ],
      "metadata": {
        "id": "QJo735nIX1HZ"
      },
      "execution_count": null,
      "outputs": []
    },
    {
      "cell_type": "code",
      "source": [
        "even = []\n",
        "odd = []\n",
        "fibo = [0,1]\n",
        "\n",
        "for i in range(n):\n",
        "  even.append(2*i)\n",
        "  odd.append(2*i+1)\n",
        "  if i > 1: fibo.append(fibo[i-2]+fibo[i-1])"
      ],
      "metadata": {
        "id": "fyx5nmXwYAuN"
      },
      "execution_count": 55,
      "outputs": []
    },
    {
      "cell_type": "code",
      "source": [
        "even"
      ],
      "metadata": {
        "id": "lG-nWB_tY2QQ"
      },
      "execution_count": null,
      "outputs": []
    },
    {
      "cell_type": "code",
      "source": [
        "odd"
      ],
      "metadata": {
        "id": "A_xewRkFYqCV"
      },
      "execution_count": null,
      "outputs": []
    },
    {
      "cell_type": "code",
      "source": [
        "fibo"
      ],
      "metadata": {
        "id": "f1M1uDw0Y7SY"
      },
      "execution_count": null,
      "outputs": []
    },
    {
      "cell_type": "code",
      "source": [
        "len(even) == len(odd) == len(fibo) #Test to check the len of the three lists"
      ],
      "metadata": {
        "id": "wecTakmdZP9i"
      },
      "execution_count": null,
      "outputs": []
    },
    {
      "cell_type": "code",
      "source": [
        "results = pd.DataFrame({'even':even, 'odd':odd, 'fibo':fibo})\n",
        "results"
      ],
      "metadata": {
        "id": "i7ZogcUcbbja"
      },
      "execution_count": null,
      "outputs": []
    }
  ]
}